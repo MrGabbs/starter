{
 "cells": [
  {
   "cell_type": "markdown",
   "id": "01bb386b-3d74-43b9-b433-e315f1dde921",
   "metadata": {},
   "source": [
    "# My Jupyter Notebook on IBM Watson Studio"
   ]
  },
  {
   "cell_type": "markdown",
   "id": "1246367d-a83c-4372-bcab-007a57471963",
   "metadata": {},
   "source": [
    "**Gabriel Oppong Afriyie**\n"
   ]
  },
  {
   "cell_type": "markdown",
   "id": "47f29459-a2bf-430e-91b4-145cf274a559",
   "metadata": {},
   "source": [
    "Data Scientist"
   ]
  },
  {
   "cell_type": "markdown",
   "id": "b5dbec40-de8d-4ebd-8ed9-067188bbabb2",
   "metadata": {},
   "source": [
    "_I am interested in data science because I would love to contribute towards affordable and fast healthcare in the future._"
   ]
  },
  {
   "cell_type": "markdown",
   "id": "10b743d8-9ce5-425e-941d-13fb96be4c5b",
   "metadata": {},
   "source": [
    "### The code below should print 'I enjoy learning Python'"
   ]
  },
  {
   "cell_type": "code",
   "execution_count": 5,
   "id": "75e489bc-c710-43c4-af65-328f76f0f961",
   "metadata": {},
   "outputs": [
    {
     "name": "stdout",
     "output_type": "stream",
     "text": [
      "I enjoy learning Python\n"
     ]
    }
   ],
   "source": [
    "print(\"I enjoy learning Python\")"
   ]
  },
  {
   "cell_type": "markdown",
   "id": "008d5b16-2df2-4360-a11f-ac6010428ea4",
   "metadata": {},
   "source": [
    "<a href=\"https://google.com\">Google It</a> ~~Friend~~\n",
    "| Head | Tail | Total |\n",
    "| --- | --- | --- |\n",
    "| 0.5 | 0.5 | 1.0 |"
   ]
  },
  {
   "cell_type": "code",
   "execution_count": null,
   "id": "553707ea-cc50-4316-9e08-aa75692f0f15",
   "metadata": {},
   "outputs": [],
   "source": []
  }
 ],
 "metadata": {
  "kernelspec": {
   "display_name": "Python",
   "language": "python",
   "name": "conda-env-python-py"
  },
  "language_info": {
   "codemirror_mode": {
    "name": "ipython",
    "version": 3
   },
   "file_extension": ".py",
   "mimetype": "text/x-python",
   "name": "python",
   "nbconvert_exporter": "python",
   "pygments_lexer": "ipython3",
   "version": "3.7.12"
  }
 },
 "nbformat": 4,
 "nbformat_minor": 5
}
